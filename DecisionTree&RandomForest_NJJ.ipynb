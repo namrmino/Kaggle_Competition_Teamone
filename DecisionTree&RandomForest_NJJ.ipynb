{
  "nbformat": 4,
  "nbformat_minor": 0,
  "metadata": {
    "colab": {
      "name": "DecisionTree&RandomForest_NJJ.ipynb",
      "provenance": [],
      "collapsed_sections": []
    },
    "kernelspec": {
      "name": "python3",
      "display_name": "Python 3"
    }
  },
  "cells": [
    {
      "cell_type": "code",
      "metadata": {
        "colab": {
          "base_uri": "https://localhost:8080/"
        },
        "id": "N3_9Y9X2-SEu",
        "outputId": "810fad6a-8490-498c-8bd3-a086e45af986"
      },
      "source": [
        "from google.colab import drive\n",
        "drive.mount('/content/drive')"
      ],
      "execution_count": 5,
      "outputs": [
        {
          "output_type": "stream",
          "text": [
            "Mounted at /content/drive\n"
          ],
          "name": "stdout"
        }
      ]
    },
    {
      "cell_type": "code",
      "metadata": {
        "id": "0RNHLul28m8t"
      },
      "source": [
        "import numpy as np\n",
        "import pandas as pd\n",
        "import warnings\n",
        "warnings.filterwarnings(action='ignore')\n",
        "\n",
        "import matplotlib as mpl\n",
        "import matplotlib.pyplot as plt\n",
        "import seaborn as sns\n",
        "import missingno as msno\n",
        "\n",
        "import matplotlib.pyplot as plt\n",
        "import seaborn as sns\n",
        "\n",
        "from sklearn.tree import DecisionTreeClassifier\n",
        "from sklearn.model_selection import train_test_split\n",
        "from sklearn.preprocessing import MinMaxScaler, StandardScaler\n",
        "from sklearn.metrics import f1_score\n",
        "\n",
        "import os"
      ],
      "execution_count": 59,
      "outputs": []
    },
    {
      "cell_type": "code",
      "metadata": {
        "id": "JNN2-zLp9KV9"
      },
      "source": [
        "# 데이터 불러오기\n",
        "train = pd.read_csv('/content/drive/My Drive/[2020]_데이터분석캠프(캐글코리아)/data/train.csv')\n",
        "test = pd.read_csv('/content/drive/My Drive/[2020]_데이터분석캠프(캐글코리아)/data/test.csv')\n",
        "sample_submission = pd.read_csv('/content/drive/My Drive/[2020]_데이터분석캠프(캐글코리아)/data/sample_submission.csv')"
      ],
      "execution_count": 60,
      "outputs": []
    },
    {
      "cell_type": "code",
      "metadata": {
        "id": "7Ors1c0i9PJG"
      },
      "source": [
        "# 1) column 제거\n",
        "def col_reduction(df):\n",
        "    df.drop(['id','fnlwgt','education','relationship','native_country','workclass'], axis=1, inplace=True)\n",
        "    \n",
        "    return df\n",
        "\n",
        "# 2) marital_status 조정\n",
        "def mar_st(df):\n",
        "    df['marital_status'] = (df['marital_status'] == 'Married-civ-spouse').astype(int)\n",
        "    \n",
        "    return df\n",
        "\n",
        "# 3) capital_gain, loss 조정\n",
        "def capital(df):\n",
        "    df['cap_gain_high'] = (df['capital_gain'] != 0).astype(int)\n",
        "    df['cap_loss_high'] = (df['capital_loss'] >= 1700).astype(int)\n",
        "    df['capital_gain'] = df['capital_gain'].map(lambda x : np.log(x) if x != 0 else 0)\n",
        "    \n",
        "    return df\n",
        "\n",
        "# 4) age 조정 함수\n",
        "def age(df):\n",
        "    df.loc[df['age'] < 20, 'age_range'] = '~20'\n",
        "    df.loc[df['age'] >= 65, 'age_range'] = '~65'\n",
        "\n",
        "    down = 20\n",
        "    for i in range(45//5):\n",
        "        df.loc[(df['age'] >= down) & (df['age'] < down+5), 'age_range'] = str(down)+'~'+str(down+5)\n",
        "        down += 5\n",
        "\n",
        "    df['age'] = df['age_range']\n",
        "    df.drop(['age_range'], axis=1, inplace=True)\n",
        "    \n",
        "    return df\n",
        "    \n",
        "# 5) One-hot encoding은 만들지 않았다.\n",
        "\n",
        "# 6) edu_num 새 변수 만들기\n",
        "def edu(df):\n",
        "    df['edu_num_high'] = (df['education_num'] >= 13).astype(int)\n",
        "    \n",
        "    return df\n",
        "\n",
        "# 7) hpw 새 변수 만들기\n",
        "    \n",
        "def hpw(df):\n",
        "    df['hpw_high'] = (df['hours_per_week'] >= 50).astype(int)\n",
        "\n",
        "    return df\n",
        "\n",
        "# 8) MinMaxScaler\n",
        "def mm_feature(df, feature):\n",
        "    mm_scaler = MinMaxScaler()\n",
        "    \n",
        "    df[feature] = mm_scaler.fit_transform(df[feature].values.reshape(-1,1))\n",
        "    \n",
        "    return df, mm_scaler\n",
        "\n",
        "# 9) target 분리: train은 하고, test는 안하므로 따로 만들겠다.\n",
        "def target_handle(df):\n",
        "    df['income'] = df['income_>50K']\n",
        "    df.drop(['income_>50K','income_<=50K'], axis=1, inplace=True)\n",
        "    \n",
        "    y_df = df.income\n",
        "    X_df = df.drop(['income'], axis=1, inplace=False)\n",
        "    \n",
        "    return X_df, y_df\n",
        "\n",
        "def main(df):\n",
        "    \n",
        "    df1 = col_reduction(df)\n",
        "    df2 = mar_st(df1)\n",
        "    df3 = capital(df2)\n",
        "    df4 = age(df3)\n",
        "    \n",
        "    df5 = pd.get_dummies(df4)\n",
        "    \n",
        "    df6 = edu(df5)\n",
        "    df_fin = hpw(df6)\n",
        "    \n",
        "    return df_fin"
      ],
      "execution_count": 61,
      "outputs": []
    },
    {
      "cell_type": "code",
      "metadata": {
        "id": "-dXeeg7L9QyB"
      },
      "source": [
        "# 적용\n",
        "## main: 1) ~ 7)\n",
        "train = main(train)\n",
        "X_test = main(test)\n",
        "\n",
        "## 8) minmax scaler\n",
        "train, mm_scaler1 = mm_feature(train,'education_num')\n",
        "train, mm_scaler2 = mm_feature(train,'hours_per_week')\n",
        "\n",
        "X_test['education_num'] = mm_scaler1.transform(X_test['education_num'].values.reshape(-1,1))\n",
        "X_test['hours_per_week'] = mm_scaler2.transform(X_test['hours_per_week'].values.reshape(-1,1))\n",
        "\n",
        "## 9) X, y split\n",
        "X_train, y_train = target_handle(train)"
      ],
      "execution_count": 62,
      "outputs": []
    },
    {
      "cell_type": "code",
      "metadata": {
        "id": "kMddpitZ9Z5T"
      },
      "source": [
        "from sklearn.tree import DecisionTreeClassifier\n",
        "from sklearn.ensemble import RandomForestClassifier"
      ],
      "execution_count": 63,
      "outputs": []
    },
    {
      "cell_type": "code",
      "metadata": {
        "id": "DrXz1MU59dQ4"
      },
      "source": [
        "from sklearn.model_selection import KFold\n",
        "from sklearn.model_selection import cross_val_score\n",
        "\n",
        "k_fold = KFold(n_splits=5, shuffle=True)"
      ],
      "execution_count": 64,
      "outputs": []
    },
    {
      "cell_type": "code",
      "metadata": {
        "id": "NKw1LBKtCt3G"
      },
      "source": [
        "from sklearn.model_selection import train_test_split\n",
        "\n",
        "X_train, X_val, y_train, y_val = train_test_split(X_train, y_train, test_size=0.2)"
      ],
      "execution_count": 65,
      "outputs": []
    },
    {
      "cell_type": "code",
      "metadata": {
        "colab": {
          "base_uri": "https://localhost:8080/"
        },
        "id": "F2gpa3I39dg3",
        "outputId": "dc92e101-310f-48cf-c275-5f890babf170"
      },
      "source": [
        "clf_DT = DecisionTreeClassifier()\n",
        "score = cross_val_score(clf_DT, X_train, y_train, scoring='f1', cv=k_fold)\n",
        "print(score)\n",
        "print(score.mean())"
      ],
      "execution_count": 66,
      "outputs": [
        {
          "output_type": "stream",
          "text": [
            "[0.6308094  0.62637363 0.61812118 0.62133891 0.62663185]\n",
            "0.6246549940407375\n"
          ],
          "name": "stdout"
        }
      ]
    },
    {
      "cell_type": "code",
      "metadata": {
        "colab": {
          "base_uri": "https://localhost:8080/"
        },
        "id": "OnFKJlrrKFF9",
        "outputId": "b59a12c2-b028-42cf-e76e-4449242a73c9"
      },
      "source": [
        "clf_RF = RandomForestClassifier()\n",
        "score = cross_val_score(clf_RF, X_train, y_train, scoring='f1', cv=k_fold)\n",
        "print(score)\n",
        "print(score.mean())"
      ],
      "execution_count": 67,
      "outputs": [
        {
          "output_type": "stream",
          "text": [
            "[0.65458422 0.63333333 0.64809855 0.6656426  0.64120495]\n",
            "0.6485727317870272\n"
          ],
          "name": "stdout"
        }
      ]
    },
    {
      "cell_type": "code",
      "metadata": {
        "colab": {
          "base_uri": "https://localhost:8080/"
        },
        "id": "Biik9ArNNCGU",
        "outputId": "6f2595be-b35a-41ef-d7ca-c1443eb0846b"
      },
      "source": [
        "from sklearn.model_selection import GridSearchCV\n",
        "\n",
        "param_grid = {'max_depth' : [6, 8, 10, 12, 16, 20, 24], 'min_samples_split' : [16, 24]}\n",
        "grid = GridSearchCV(clf_DT, param_grid, cv=k_fold)\n",
        "grid.fit(X_train, y_train)\n",
        "best_param = grid.best_params_\n",
        "best_param"
      ],
      "execution_count": 68,
      "outputs": [
        {
          "output_type": "execute_result",
          "data": {
            "text/plain": [
              "{'max_depth': 12, 'min_samples_split': 24}"
            ]
          },
          "metadata": {
            "tags": []
          },
          "execution_count": 68
        }
      ]
    },
    {
      "cell_type": "code",
      "metadata": {
        "colab": {
          "base_uri": "https://localhost:8080/"
        },
        "id": "ODYxdKdUNCVi",
        "outputId": "af2a9674-b5b8-41e9-ae45-6f0742540a83"
      },
      "source": [
        "param_grid = {'n_estimators' : [10, 100],\n",
        "           'max_depth' : [6, 8, 10, 12],\n",
        "           'min_samples_leaf' : [8, 12, 18],\n",
        "           'min_samples_split' : [8, 16, 20]}\n",
        "grid = GridSearchCV(clf_RF, param_grid, cv=k_fold)\n",
        "grid.fit(X_train, y_train)\n",
        "best_param = grid.best_params_\n",
        "best_param"
      ],
      "execution_count": 69,
      "outputs": [
        {
          "output_type": "execute_result",
          "data": {
            "text/plain": [
              "{'max_depth': 12,\n",
              " 'min_samples_leaf': 8,\n",
              " 'min_samples_split': 8,\n",
              " 'n_estimators': 100}"
            ]
          },
          "metadata": {
            "tags": []
          },
          "execution_count": 69
        }
      ]
    },
    {
      "cell_type": "code",
      "metadata": {
        "colab": {
          "base_uri": "https://localhost:8080/"
        },
        "id": "8exnEJTeOWPl",
        "outputId": "e43b5ab3-854e-4ea9-be79-303d50e6c35d"
      },
      "source": [
        "clf_DT = DecisionTreeClassifier(max_depth=12, min_samples_split=24)\n",
        "score = cross_val_score(clf_DT, X_train, y_train, scoring='f1', cv=k_fold)\n",
        "print(score)\n",
        "print(score.mean())"
      ],
      "execution_count": 72,
      "outputs": [
        {
          "output_type": "stream",
          "text": [
            "[0.62633452 0.66554054 0.63071512 0.6171143  0.61677731]\n",
            "0.6312963590314764\n"
          ],
          "name": "stdout"
        }
      ]
    },
    {
      "cell_type": "code",
      "metadata": {
        "colab": {
          "base_uri": "https://localhost:8080/"
        },
        "id": "F13I-7VUMd11",
        "outputId": "6113714c-ddcf-4ab4-d818-27953bc53963"
      },
      "source": [
        "clf_RF = RandomForestClassifier(max_depth=12, min_samples_leaf=8, min_samples_split=8, n_estimators=100)\n",
        "score = cross_val_score(clf_RF, X_train, y_train, scoring='f1', cv=k_fold)\n",
        "print(score)\n",
        "print(score.mean())"
      ],
      "execution_count": 73,
      "outputs": [
        {
          "output_type": "stream",
          "text": [
            "[0.64430307 0.62470309 0.61189454 0.6446384  0.65318263]\n",
            "0.6357443459687986\n"
          ],
          "name": "stdout"
        }
      ]
    },
    {
      "cell_type": "code",
      "metadata": {
        "id": "zeA1hoLFPusN"
      },
      "source": [
        ""
      ],
      "execution_count": 71,
      "outputs": []
    }
  ]
}